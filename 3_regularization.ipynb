{
 "cells": [
  {
   "cell_type": "markdown",
   "metadata": {
    "colab_type": "text",
    "id": "kR-4eNdK6lYS"
   },
   "source": [
    "Deep Learning\n",
    "=============\n",
    "\n",
    "Assignment 3\n",
    "------------\n",
    "\n",
    "Previously in `2_fullyconnected.ipynb`, you trained a logistic regression and a neural network model.\n",
    "\n",
    "The goal of this assignment is to explore regularization techniques."
   ]
  },
  {
   "cell_type": "code",
   "execution_count": 1,
   "metadata": {
    "cellView": "both",
    "colab": {
     "autoexec": {
      "startup": false,
      "wait_interval": 0
     }
    },
    "colab_type": "code",
    "collapsed": true,
    "id": "JLpLa8Jt7Vu4"
   },
   "outputs": [],
   "source": [
    "# These are all the modules we'll be using later. Make sure you can import them\n",
    "# before proceeding further.\n",
    "from __future__ import print_function\n",
    "import numpy as np\n",
    "import tensorflow as tf\n",
    "from six.moves import cPickle as pickle"
   ]
  },
  {
   "cell_type": "markdown",
   "metadata": {
    "colab_type": "text",
    "id": "1HrCK6e17WzV"
   },
   "source": [
    "First reload the data we generated in _notmist.ipynb_."
   ]
  },
  {
   "cell_type": "code",
   "execution_count": 2,
   "metadata": {
    "cellView": "both",
    "colab": {
     "autoexec": {
      "startup": false,
      "wait_interval": 0
     },
     "output_extras": [
      {
       "item_id": 1
      }
     ]
    },
    "colab_type": "code",
    "collapsed": false,
    "executionInfo": {
     "elapsed": 11777,
     "status": "ok",
     "timestamp": 1449849322348,
     "user": {
      "color": "",
      "displayName": "",
      "isAnonymous": false,
      "isMe": true,
      "permissionId": "",
      "photoUrl": "",
      "sessionId": "0",
      "userId": ""
     },
     "user_tz": 480
    },
    "id": "y3-cj1bpmuxc",
    "outputId": "e03576f1-ebbe-4838-c388-f1777bcc9873"
   },
   "outputs": [
    {
     "name": "stdout",
     "output_type": "stream",
     "text": [
      "Training set (200000, 28, 28) (200000,)\n",
      "Validation set (10000, 28, 28) (10000,)\n",
      "Test set (10000, 28, 28) (10000,)\n"
     ]
    }
   ],
   "source": [
    "pickle_file = 'notMNIST.pickle'\n",
    "\n",
    "with open(pickle_file, 'rb') as f:\n",
    "  save = pickle.load(f)\n",
    "  train_dataset = save['train_dataset']\n",
    "  train_labels = save['train_labels']\n",
    "  valid_dataset = save['valid_dataset']\n",
    "  valid_labels = save['valid_labels']\n",
    "  test_dataset = save['test_dataset']\n",
    "  test_labels = save['test_labels']\n",
    "  del save  # hint to help gc free up memory\n",
    "  print('Training set', train_dataset.shape, train_labels.shape)\n",
    "  print('Validation set', valid_dataset.shape, valid_labels.shape)\n",
    "  print('Test set', test_dataset.shape, test_labels.shape)"
   ]
  },
  {
   "cell_type": "markdown",
   "metadata": {
    "colab_type": "text",
    "id": "L7aHrm6nGDMB"
   },
   "source": [
    "Reformat into a shape that's more adapted to the models we're going to train:\n",
    "- data as a flat matrix,\n",
    "- labels as float 1-hot encodings."
   ]
  },
  {
   "cell_type": "code",
   "execution_count": 3,
   "metadata": {
    "cellView": "both",
    "colab": {
     "autoexec": {
      "startup": false,
      "wait_interval": 0
     },
     "output_extras": [
      {
       "item_id": 1
      }
     ]
    },
    "colab_type": "code",
    "collapsed": false,
    "executionInfo": {
     "elapsed": 11728,
     "status": "ok",
     "timestamp": 1449849322356,
     "user": {
      "color": "",
      "displayName": "",
      "isAnonymous": false,
      "isMe": true,
      "permissionId": "",
      "photoUrl": "",
      "sessionId": "0",
      "userId": ""
     },
     "user_tz": 480
    },
    "id": "IRSyYiIIGIzS",
    "outputId": "3f8996ee-3574-4f44-c953-5c8a04636582"
   },
   "outputs": [
    {
     "name": "stdout",
     "output_type": "stream",
     "text": [
      "Training set (200000, 784) (200000, 10)\n",
      "Validation set (10000, 784) (10000, 10)\n",
      "Test set (10000, 784) (10000, 10)\n"
     ]
    }
   ],
   "source": [
    "image_size = 28\n",
    "num_labels = 10\n",
    "\n",
    "def reformat(dataset, labels):\n",
    "  dataset = dataset.reshape((-1, image_size * image_size)).astype(np.float32)\n",
    "  # Map 1 to [0.0, 1.0, 0.0 ...], 2 to [0.0, 0.0, 1.0 ...]\n",
    "  labels = (np.arange(num_labels) == labels[:,None]).astype(np.float32)\n",
    "  return dataset, labels\n",
    "train_dataset, train_labels = reformat(train_dataset, train_labels)\n",
    "valid_dataset, valid_labels = reformat(valid_dataset, valid_labels)\n",
    "test_dataset, test_labels = reformat(test_dataset, test_labels)\n",
    "print('Training set', train_dataset.shape, train_labels.shape)\n",
    "print('Validation set', valid_dataset.shape, valid_labels.shape)\n",
    "print('Test set', test_dataset.shape, test_labels.shape)"
   ]
  },
  {
   "cell_type": "code",
   "execution_count": 4,
   "metadata": {
    "cellView": "both",
    "colab": {
     "autoexec": {
      "startup": false,
      "wait_interval": 0
     }
    },
    "colab_type": "code",
    "collapsed": true,
    "id": "RajPLaL_ZW6w"
   },
   "outputs": [],
   "source": [
    "def accuracy(predictions, labels):\n",
    "  return (100.0 * np.sum(np.argmax(predictions, 1) == np.argmax(labels, 1))\n",
    "          / predictions.shape[0])"
   ]
  },
  {
   "cell_type": "markdown",
   "metadata": {
    "colab_type": "text",
    "id": "sgLbUAQ1CW-1"
   },
   "source": [
    "---\n",
    "Problem 1\n",
    "---------\n",
    "\n",
    "Introduce and tune L2 regularization for both logistic and neural network models. Remember that L2 amounts to adding a penalty on the norm of the weights to the loss. In TensorFlow, you can compute the L2 loss for a tensor `t` using `nn.l2_loss(t)`. The right amount of regularization should improve your validation / test accuracy.\n",
    "\n",
    "---"
   ]
  },
  {
   "cell_type": "code",
   "execution_count": 9,
   "metadata": {
    "collapsed": false
   },
   "outputs": [],
   "source": [
    "batch_size = 128\n",
    "beta=0.01\n",
    "graph = tf.Graph()\n",
    "with graph.as_default():\n",
    "\n",
    "  # Input data. For the training data, we use a placeholder that will be fed\n",
    "  # at run time with a training minibatch.\n",
    "  tf_train_dataset = tf.placeholder(tf.float32,\n",
    "                                    shape=(batch_size, image_size * image_size))\n",
    "  tf_train_labels = tf.placeholder(tf.float32, shape=(batch_size, num_labels))\n",
    "  tf_valid_dataset = tf.constant(valid_dataset)\n",
    "  tf_test_dataset = tf.constant(test_dataset)\n",
    "  # Variables.\n",
    "  weights = tf.Variable(\n",
    "    tf.truncated_normal([image_size * image_size, num_labels]))\n",
    "  biases = tf.Variable(tf.zeros([num_labels]))\n",
    "  # Training computation.\n",
    "  logits = tf.matmul(tf_train_dataset, weights) + biases\n",
    "  loss = tf.reduce_mean(\n",
    "    tf.nn.softmax_cross_entropy_with_logits(logits, tf_train_labels))+ beta * tf.nn.l2_loss(weights)\n",
    "  # Optimizer.\n",
    "  optimizer = tf.train.GradientDescentOptimizer(0.5).minimize(loss)\n",
    "  # Predictions for the training, validation, and test data.\n",
    "  train_prediction = tf.nn.softmax(logits)\n",
    "  valid_prediction = tf.nn.softmax(tf.matmul(tf_valid_dataset, weights) + biases)\n",
    "  test_prediction = tf.nn.softmax(tf.matmul(tf_test_dataset, weights) + biases)"
   ]
  },
  {
   "cell_type": "code",
   "execution_count": 10,
   "metadata": {
    "collapsed": false
   },
   "outputs": [
    {
     "name": "stdout",
     "output_type": "stream",
     "text": [
      "Initialized\n",
      "Minibatch loss at step 0: 47.354774\n",
      "Minibatch accuracy: 16.4%\n",
      "Validation accuracy: 16.5%\n",
      "Minibatch loss at step 500: 0.753821\n",
      "Minibatch accuracy: 85.9%\n",
      "Validation accuracy: 81.5%\n",
      "Minibatch loss at step 1000: 0.801339\n",
      "Minibatch accuracy: 80.5%\n",
      "Validation accuracy: 81.2%\n",
      "Minibatch loss at step 1500: 0.565806\n",
      "Minibatch accuracy: 82.8%\n",
      "Validation accuracy: 81.1%\n",
      "Minibatch loss at step 2000: 0.648272\n",
      "Minibatch accuracy: 87.5%\n",
      "Validation accuracy: 81.2%\n",
      "Minibatch loss at step 2500: 0.782439\n",
      "Minibatch accuracy: 78.9%\n",
      "Validation accuracy: 81.1%\n",
      "Minibatch loss at step 3000: 0.784383\n",
      "Minibatch accuracy: 80.5%\n",
      "Validation accuracy: 81.4%\n",
      "Test accuracy: 88.6%\n"
     ]
    }
   ],
   "source": [
    "num_steps = 3001\n",
    "\n",
    "with tf.Session(graph=graph) as session:\n",
    "  tf.global_variables_initializer().run()\n",
    "  print(\"Initialized\")\n",
    "  for step in range(num_steps):\n",
    "    # Pick an offset within the training data, which has been randomized.\n",
    "    # Note: we could use better randomization across epochs.\n",
    "    offset = (step * batch_size) % (train_labels.shape[0] - batch_size)\n",
    "    # Generate a minibatch.\n",
    "    batch_data = train_dataset[offset:(offset + batch_size), :]\n",
    "    batch_labels = train_labels[offset:(offset + batch_size), :]\n",
    "    # Prepare a dictionary telling the session where to feed the minibatch.\n",
    "    # The key of the dictionary is the placeholder node of the graph to be fed,\n",
    "    # and the value is the numpy array to feed to it.\n",
    "    feed_dict = {tf_train_dataset : batch_data, tf_train_labels : batch_labels}\n",
    "    _, l, predictions = session.run(\n",
    "      [optimizer, loss, train_prediction], feed_dict=feed_dict)\n",
    "    if (step % 500 == 0):\n",
    "      print(\"Minibatch loss at step %d: %f\" % (step, l))\n",
    "      print(\"Minibatch accuracy: %.1f%%\" % accuracy(predictions, batch_labels))\n",
    "      print(\"Validation accuracy: %.1f%%\" % accuracy(\n",
    "        valid_prediction.eval(), valid_labels))\n",
    "  print(\"Test accuracy: %.1f%%\" % accuracy(test_prediction.eval(), test_labels))"
   ]
  },
  {
   "cell_type": "markdown",
   "metadata": {},
   "source": [
    "## neural network "
   ]
  },
  {
   "cell_type": "code",
   "execution_count": 17,
   "metadata": {
    "collapsed": true
   },
   "outputs": [],
   "source": [
    "batch_size = 128\n",
    "n_nodes_hl1=1024\n",
    "beta=0.0008\n",
    "graph = tf.Graph()\n",
    "with graph.as_default():\n",
    "  # Input data. For the training data, we use a placeholder that will be fed\n",
    "  # at run time with a training minibatch.\n",
    "  tf_train_dataset = tf.placeholder(tf.float32,\n",
    "                                    shape=(batch_size, image_size * image_size),name='train')\n",
    "  tf_train_labels = tf.placeholder(tf.float32, shape=(batch_size, num_labels),name='train_label')\n",
    "  tf_valid_dataset = tf.constant(valid_dataset,name='valid')\n",
    "  tf_test_dataset = tf.constant(test_dataset,name='test')\n",
    "  hidden_1_layer={'weights':tf.Variable(\n",
    "  tf.truncated_normal([image_size * image_size, n_nodes_hl1]),name='hidden_weights'),'bias':tf.Variable(tf.zeros([n_nodes_hl1]),name='hidden_bias')}                                                                                                             \n",
    "  output_layer={'weights':tf.Variable(tf.truncated_normal([n_nodes_hl1,num_labels]),name='output_weights'),'bias':tf.Variable(tf.truncated_normal([num_labels]),name='output_bias')}                                                                                                           \n",
    "  l1=tf.add(tf.matmul(tf_train_dataset,hidden_1_layer[\"weights\"]),hidden_1_layer[\"bias\"])\n",
    "  l1=tf.nn.relu(l1)\n",
    "  output=tf.add(tf.matmul(l1,output_layer[\"weights\"]),output_layer[\"bias\"])  \n",
    "  loss = tf.reduce_mean(tf.nn.softmax_cross_entropy_with_logits(output, tf_train_labels))+beta * (tf.nn.l2_loss(hidden_1_layer[\"weights\"])+tf.nn.l2_loss(output_layer[\"weights\"]))\n",
    "  # Optimizer.\n",
    "  optimizer = tf.train.GradientDescentOptimizer(0.5).minimize(loss)\n",
    "  # Predictions for the training, validation, and test data.\n",
    "  train_prediction = tf.nn.softmax(output)\n",
    "  valid_prediction = tf.nn.softmax(tf.add(tf.matmul(tf.nn.relu(tf.add(tf.matmul(tf_valid_dataset,hidden_1_layer[\"weights\"]),hidden_1_layer[\"bias\"])),output_layer[\"weights\"]),output_layer[\"bias\"]))\n",
    "  test_prediction = tf.nn.softmax(tf.add(tf.matmul(tf.nn.relu(tf.add(tf.matmul(tf_test_dataset,hidden_1_layer[\"weights\"]),hidden_1_layer[\"bias\"])),output_layer[\"weights\"]),output_layer[\"bias\"]))\n",
    "  "
   ]
  },
  {
   "cell_type": "code",
   "execution_count": 18,
   "metadata": {
    "collapsed": false
   },
   "outputs": [
    {
     "name": "stdout",
     "output_type": "stream",
     "text": [
      "Initialized\n",
      "Minibatch loss at step 0: 593.248718\n",
      "Minibatch accuracy: 10.2%\n",
      "Validation accuracy: 33.9%\n",
      "Minibatch loss at step 500: 181.862213\n",
      "Minibatch accuracy: 78.9%\n",
      "Validation accuracy: 79.1%\n",
      "Minibatch loss at step 1000: 112.801064\n",
      "Minibatch accuracy: 79.7%\n",
      "Validation accuracy: 81.2%\n",
      "Minibatch loss at step 1500: 74.073616\n",
      "Minibatch accuracy: 90.6%\n",
      "Validation accuracy: 82.6%\n",
      "Minibatch loss at step 2000: 49.114239\n",
      "Minibatch accuracy: 90.6%\n",
      "Validation accuracy: 84.3%\n",
      "Minibatch loss at step 2500: 32.967834\n",
      "Minibatch accuracy: 86.7%\n",
      "Validation accuracy: 85.1%\n",
      "Minibatch loss at step 3000: 22.263639\n",
      "Minibatch accuracy: 85.9%\n",
      "Validation accuracy: 86.1%\n",
      "Minibatch loss at step 3500: 15.059161\n",
      "Minibatch accuracy: 86.7%\n",
      "Validation accuracy: 86.7%\n",
      "Minibatch loss at step 4000: 10.181773\n",
      "Minibatch accuracy: 90.6%\n",
      "Validation accuracy: 87.4%\n",
      "Minibatch loss at step 4500: 6.968161\n",
      "Minibatch accuracy: 89.8%\n",
      "Validation accuracy: 87.3%\n",
      "Minibatch loss at step 5000: 4.855597\n",
      "Minibatch accuracy: 89.1%\n",
      "Validation accuracy: 88.1%\n",
      "Minibatch loss at step 5500: 3.466008\n",
      "Minibatch accuracy: 86.7%\n",
      "Validation accuracy: 87.8%\n",
      "Minibatch loss at step 6000: 2.558674\n",
      "Minibatch accuracy: 86.7%\n",
      "Validation accuracy: 88.0%\n",
      "Minibatch loss at step 6500: 1.734990\n",
      "Minibatch accuracy: 92.2%\n",
      "Validation accuracy: 88.2%\n",
      "Minibatch loss at step 7000: 1.442477\n",
      "Minibatch accuracy: 86.7%\n",
      "Validation accuracy: 88.2%\n",
      "Minibatch loss at step 7500: 1.171255\n",
      "Minibatch accuracy: 87.5%\n",
      "Validation accuracy: 88.6%\n",
      "Minibatch loss at step 8000: 1.074719\n",
      "Minibatch accuracy: 82.8%\n",
      "Validation accuracy: 88.2%\n",
      "Minibatch loss at step 8500: 0.721994\n",
      "Minibatch accuracy: 90.6%\n",
      "Validation accuracy: 88.2%\n",
      "Minibatch loss at step 9000: 0.735190\n",
      "Minibatch accuracy: 89.1%\n",
      "Validation accuracy: 88.3%\n",
      "Minibatch loss at step 9500: 0.605833\n",
      "Minibatch accuracy: 90.6%\n",
      "Validation accuracy: 88.5%\n",
      "Test accuracy: 94.6%\n"
     ]
    }
   ],
   "source": [
    "num_steps = 10000\n",
    "\n",
    "with tf.Session(graph=graph) as session:\n",
    "  tf.global_variables_initializer().run()\n",
    "  print(\"Initialized\")\n",
    "  for step in range(num_steps):\n",
    "    # Pick an offset within the training data, which has been randomized.\n",
    "    # Note: we could use better randomization across epochs.\n",
    "    offset = (step * batch_size) % (train_labels.shape[0] - batch_size)\n",
    "    # Generate a minibatch.\n",
    "    batch_data = train_dataset[offset:(offset + batch_size), :]\n",
    "    batch_labels = train_labels[offset:(offset + batch_size), :]\n",
    "    # Prepare a dictionary telling the session where to feed the minibatch.\n",
    "    # The key of the dictionary is the placeholder node of the graph to be fed,\n",
    "    # and the value is the numpy array to feed to it.\n",
    "    feed_dict = {tf_train_dataset : batch_data, tf_train_labels : batch_labels}\n",
    "    _, l, predictions = session.run(\n",
    "      [optimizer, loss, train_prediction], feed_dict=feed_dict)\n",
    "    if (step % 500 == 0):\n",
    "      print(\"Minibatch loss at step %d: %f\" % (step, l))\n",
    "      print(\"Minibatch accuracy: %.1f%%\" % accuracy(predictions, batch_labels))\n",
    "      print(\"Validation accuracy: %.1f%%\" % accuracy(valid_prediction.eval(), valid_labels))\n",
    "        \n",
    "  print(\"Test accuracy: %.1f%%\" % accuracy(test_prediction.eval(), test_labels))"
   ]
  },
  {
   "cell_type": "code",
   "execution_count": null,
   "metadata": {
    "collapsed": true
   },
   "outputs": [],
   "source": []
  },
  {
   "cell_type": "markdown",
   "metadata": {
    "colab_type": "text",
    "id": "na8xX2yHZzNF"
   },
   "source": [
    "---\n",
    "Problem 2\n",
    "---------\n",
    "Let's demonstrate an extreme case of overfitting. Restrict your training data to just a few batches. What happens?\n",
    "\n",
    "---"
   ]
  },
  {
   "cell_type": "code",
   "execution_count": 21,
   "metadata": {
    "collapsed": true
   },
   "outputs": [],
   "source": [
    "batch_size = 10\n",
    "n_nodes_hl1=1024\n",
    "beta=0.0008\n",
    "graph = tf.Graph()\n",
    "with graph.as_default():\n",
    "  # Input data. For the training data, we use a placeholder that will be fed\n",
    "  # at run time with a training minibatch.\n",
    "  tf_train_dataset = tf.placeholder(tf.float32,\n",
    "                                    shape=(batch_size, image_size * image_size),name='train')\n",
    "  tf_train_labels = tf.placeholder(tf.float32, shape=(batch_size, num_labels),name='train_label')\n",
    "  tf_valid_dataset = tf.constant(valid_dataset,name='valid')\n",
    "  tf_test_dataset = tf.constant(test_dataset,name='test')\n",
    "  hidden_1_layer={'weights':tf.Variable(\n",
    "  tf.truncated_normal([image_size * image_size, n_nodes_hl1]),name='hidden_weights'),'bias':tf.Variable(tf.zeros([n_nodes_hl1]),name='hidden_bias')}                                                                                                             \n",
    "  output_layer={'weights':tf.Variable(tf.truncated_normal([n_nodes_hl1,num_labels]),name='output_weights'),'bias':tf.Variable(tf.truncated_normal([num_labels]),name='output_bias')}                                                                                                           \n",
    "  l1=tf.add(tf.matmul(tf_train_dataset,hidden_1_layer[\"weights\"]),hidden_1_layer[\"bias\"])\n",
    "  l1=tf.nn.relu(l1)\n",
    "  output=tf.add(tf.matmul(l1,output_layer[\"weights\"]),output_layer[\"bias\"])  \n",
    "  loss = tf.reduce_mean(tf.nn.softmax_cross_entropy_with_logits(output, tf_train_labels))+beta * (tf.nn.l2_loss(hidden_1_layer[\"weights\"])+tf.nn.l2_loss(output_layer[\"weights\"]))\n",
    "  # Optimizer.\n",
    "  optimizer = tf.train.GradientDescentOptimizer(0.5).minimize(loss)\n",
    "  # Predictions for the training, validation, and test data.\n",
    "  train_prediction = tf.nn.softmax(output)\n",
    "  valid_prediction = tf.nn.softmax(tf.add(tf.matmul(tf.nn.relu(tf.add(tf.matmul(tf_valid_dataset,hidden_1_layer[\"weights\"]),hidden_1_layer[\"bias\"])),output_layer[\"weights\"]),output_layer[\"bias\"]))\n",
    "  test_prediction = tf.nn.softmax(tf.add(tf.matmul(tf.nn.relu(tf.add(tf.matmul(tf_test_dataset,hidden_1_layer[\"weights\"]),hidden_1_layer[\"bias\"])),output_layer[\"weights\"]),output_layer[\"bias\"]))\n",
    "  "
   ]
  },
  {
   "cell_type": "code",
   "execution_count": 22,
   "metadata": {
    "collapsed": false
   },
   "outputs": [
    {
     "name": "stdout",
     "output_type": "stream",
     "text": [
      "Initialized\n",
      "Minibatch loss at step 0: 585.116211\n",
      "Minibatch accuracy: 20.0%\n",
      "Validation accuracy: 18.5%\n",
      "Minibatch loss at step 500: 100481.554688\n",
      "Minibatch accuracy: 30.0%\n",
      "Validation accuracy: 54.9%\n",
      "Minibatch loss at step 1000: 92544.468750\n",
      "Minibatch accuracy: 50.0%\n",
      "Validation accuracy: 56.1%\n",
      "Minibatch loss at step 1500: 1397098.375000\n",
      "Minibatch accuracy: 70.0%\n",
      "Validation accuracy: 49.1%\n",
      "Minibatch loss at step 2000: 8571844.000000\n",
      "Minibatch accuracy: 40.0%\n",
      "Validation accuracy: 41.1%\n",
      "Minibatch loss at step 2500: 2852372.250000\n",
      "Minibatch accuracy: 40.0%\n",
      "Validation accuracy: 43.7%\n",
      "Minibatch loss at step 3000: 463610.937500\n",
      "Minibatch accuracy: 30.0%\n",
      "Validation accuracy: 50.5%\n",
      "Test accuracy: 56.0%\n"
     ]
    }
   ],
   "source": [
    "num_steps = 3001\n",
    "\n",
    "with tf.Session(graph=graph) as session:\n",
    "  tf.global_variables_initializer().run()\n",
    "  print(\"Initialized\")\n",
    "  for step in range(num_steps):\n",
    "    # Pick an offset within the training data, which has been randomized.\n",
    "    # Note: we could use better randomization across epochs.\n",
    "    offset = (step * batch_size) % (train_labels.shape[0] - batch_size)\n",
    "    # Generate a minibatch.\n",
    "    batch_data = train_dataset[offset:(offset + batch_size), :]\n",
    "    batch_labels = train_labels[offset:(offset + batch_size), :]\n",
    "    # Prepare a dictionary telling the session where to feed the minibatch.\n",
    "    # The key of the dictionary is the placeholder node of the graph to be fed,\n",
    "    # and the value is the numpy array to feed to it.\n",
    "    feed_dict = {tf_train_dataset : batch_data, tf_train_labels : batch_labels}\n",
    "    _, l, predictions = session.run(\n",
    "      [optimizer, loss, train_prediction], feed_dict=feed_dict)\n",
    "    if (step % 500 == 0):\n",
    "      print(\"Minibatch loss at step %d: %f\" % (step, l))\n",
    "      print(\"Minibatch accuracy: %.1f%%\" % accuracy(predictions, batch_labels))\n",
    "      print(\"Validation accuracy: %.1f%%\" % accuracy(valid_prediction.eval(), valid_labels))\n",
    "        \n",
    "  print(\"Test accuracy: %.1f%%\" % accuracy(test_prediction.eval(), test_labels))"
   ]
  },
  {
   "cell_type": "code",
   "execution_count": null,
   "metadata": {
    "collapsed": true
   },
   "outputs": [],
   "source": []
  },
  {
   "cell_type": "code",
   "execution_count": 31,
   "metadata": {
    "collapsed": true
   },
   "outputs": [],
   "source": [
    "batch_size = 20\n",
    "n_nodes_hl1=2048\n",
    "beta=0.0008\n",
    "graph = tf.Graph()\n",
    "with graph.as_default():\n",
    "  # Input data. For the training data, we use a placeholder that will be fed\n",
    "  # at run time with a training minibatch.\n",
    "  tf_train_dataset = tf.placeholder(tf.float32,\n",
    "                                    shape=(batch_size, image_size * image_size),name='train')\n",
    "  tf_train_labels = tf.placeholder(tf.float32, shape=(batch_size, num_labels),name='train_label')\n",
    "  tf_valid_dataset = tf.constant(valid_dataset,name='valid')\n",
    "  tf_test_dataset = tf.constant(test_dataset,name='test')\n",
    "  hidden_1_layer={'weights':tf.Variable(\n",
    "  tf.truncated_normal([image_size * image_size, n_nodes_hl1]),name='hidden_weights'),'bias':tf.Variable(tf.zeros([n_nodes_hl1]),name='hidden_bias')}                                                                                                             \n",
    "  output_layer={'weights':tf.Variable(tf.truncated_normal([n_nodes_hl1,num_labels]),name='output_weights'),'bias':tf.Variable(tf.truncated_normal([num_labels]),name='output_bias')}                                                                                                           \n",
    "  l1=tf.add(tf.matmul(tf_train_dataset,hidden_1_layer[\"weights\"]),hidden_1_layer[\"bias\"])\n",
    "  l1=tf.nn.relu(l1)\n",
    "  output=tf.add(tf.matmul(l1,output_layer[\"weights\"]),output_layer[\"bias\"])  \n",
    "  loss = tf.reduce_mean(tf.nn.softmax_cross_entropy_with_logits(output, tf_train_labels))+beta * (tf.nn.l2_loss(hidden_1_layer[\"weights\"])+tf.nn.l2_loss(output_layer[\"weights\"]))\n",
    "  # Optimizer.\n",
    "  optimizer = tf.train.GradientDescentOptimizer(0.5).minimize(loss)\n",
    "  # Predictions for the training, validation, and test data.\n",
    "  train_prediction = tf.nn.softmax(output)\n",
    "  valid_prediction = tf.nn.softmax(tf.add(tf.matmul(tf.nn.relu(tf.add(tf.matmul(tf_valid_dataset,hidden_1_layer[\"weights\"]),hidden_1_layer[\"bias\"])),output_layer[\"weights\"]),output_layer[\"bias\"]))\n",
    "  test_prediction = tf.nn.softmax(tf.add(tf.matmul(tf.nn.relu(tf.add(tf.matmul(tf_test_dataset,hidden_1_layer[\"weights\"]),hidden_1_layer[\"bias\"])),output_layer[\"weights\"]),output_layer[\"bias\"]))\n",
    "  "
   ]
  },
  {
   "cell_type": "code",
   "execution_count": 32,
   "metadata": {
    "collapsed": false
   },
   "outputs": [
    {
     "name": "stdout",
     "output_type": "stream",
     "text": [
      "Initialized\n",
      "Minibatch loss at step 0: 867.437622\n",
      "Minibatch accuracy: 20.0%\n",
      "Validation accuracy: 12.9%\n",
      "Minibatch loss at step 500: 564.476929\n",
      "Minibatch accuracy: 80.0%\n",
      "Validation accuracy: 68.9%\n",
      "Minibatch loss at step 1000: 500.818726\n",
      "Minibatch accuracy: 75.0%\n",
      "Validation accuracy: 59.4%\n",
      "Minibatch loss at step 1500: 166.388077\n",
      "Minibatch accuracy: 75.0%\n",
      "Validation accuracy: 71.7%\n",
      "Minibatch loss at step 2000: 109.435852\n",
      "Minibatch accuracy: 65.0%\n",
      "Validation accuracy: 71.7%\n",
      "Minibatch loss at step 2500: 72.815384\n",
      "Minibatch accuracy: 75.0%\n",
      "Validation accuracy: 78.3%\n",
      "Minibatch loss at step 3000: 48.715622\n",
      "Minibatch accuracy: 80.0%\n",
      "Validation accuracy: 80.4%\n",
      "Test accuracy: 87.8%\n"
     ]
    }
   ],
   "source": [
    "num_steps = 3001\n",
    "\n",
    "with tf.Session(graph=graph) as session:\n",
    "  tf.global_variables_initializer().run()\n",
    "  print(\"Initialized\")\n",
    "  for step in range(num_steps):\n",
    "    # Pick an offset within the training data, which has been randomized.\n",
    "    # Note: we could use better randomization across epochs.\n",
    "    offset = (step * batch_size) % (train_labels.shape[0] - batch_size)\n",
    "    # Generate a minibatch.\n",
    "    batch_data = train_dataset[offset:(offset + batch_size), :]\n",
    "    batch_labels = train_labels[offset:(offset + batch_size), :]\n",
    "    # Prepare a dictionary telling the session where to feed the minibatch.\n",
    "    # The key of the dictionary is the placeholder node of the graph to be fed,\n",
    "    # and the value is the numpy array to feed to it.\n",
    "    feed_dict = {tf_train_dataset : batch_data, tf_train_labels : batch_labels}\n",
    "    _, l, predictions = session.run(\n",
    "      [optimizer, loss, train_prediction], feed_dict=feed_dict)\n",
    "    if (step % 500 == 0):\n",
    "      print(\"Minibatch loss at step %d: %f\" % (step, l))\n",
    "      print(\"Minibatch accuracy: %.1f%%\" % accuracy(predictions, batch_labels))\n",
    "      print(\"Validation accuracy: %.1f%%\" % accuracy(valid_prediction.eval(), valid_labels))\n",
    "        \n",
    "  print(\"Test accuracy: %.1f%%\" % accuracy(test_prediction.eval(), test_labels))"
   ]
  },
  {
   "cell_type": "code",
   "execution_count": null,
   "metadata": {
    "collapsed": true
   },
   "outputs": [],
   "source": []
  },
  {
   "cell_type": "code",
   "execution_count": 25,
   "metadata": {
    "collapsed": true
   },
   "outputs": [],
   "source": [
    "batch_size = 1000\n",
    "n_nodes_hl1=1024\n",
    "beta=0.0008\n",
    "graph = tf.Graph()\n",
    "with graph.as_default():\n",
    "  # Input data. For the training data, we use a placeholder that will be fed\n",
    "  # at run time with a training minibatch.\n",
    "  tf_train_dataset = tf.placeholder(tf.float32,\n",
    "                                    shape=(batch_size, image_size * image_size),name='train')\n",
    "  tf_train_labels = tf.placeholder(tf.float32, shape=(batch_size, num_labels),name='train_label')\n",
    "  tf_valid_dataset = tf.constant(valid_dataset,name='valid')\n",
    "  tf_test_dataset = tf.constant(test_dataset,name='test')\n",
    "  hidden_1_layer={'weights':tf.Variable(\n",
    "  tf.truncated_normal([image_size * image_size, n_nodes_hl1]),name='hidden_weights'),'bias':tf.Variable(tf.zeros([n_nodes_hl1]),name='hidden_bias')}                                                                                                             \n",
    "  output_layer={'weights':tf.Variable(tf.truncated_normal([n_nodes_hl1,num_labels]),name='output_weights'),'bias':tf.Variable(tf.truncated_normal([num_labels]),name='output_bias')}                                                                                                           \n",
    "  l1=tf.add(tf.matmul(tf_train_dataset,hidden_1_layer[\"weights\"]),hidden_1_layer[\"bias\"])\n",
    "  l1=tf.nn.relu(l1)\n",
    "  output=tf.add(tf.matmul(l1,output_layer[\"weights\"]),output_layer[\"bias\"])  \n",
    "  loss = tf.reduce_mean(tf.nn.softmax_cross_entropy_with_logits(output, tf_train_labels))+beta * (tf.nn.l2_loss(hidden_1_layer[\"weights\"])+tf.nn.l2_loss(output_layer[\"weights\"]))\n",
    "  # Optimizer.\n",
    "  optimizer = tf.train.GradientDescentOptimizer(0.5).minimize(loss)\n",
    "  # Predictions for the training, validation, and test data.\n",
    "  train_prediction = tf.nn.softmax(output)\n",
    "  valid_prediction = tf.nn.softmax(tf.add(tf.matmul(tf.nn.relu(tf.add(tf.matmul(tf_valid_dataset,hidden_1_layer[\"weights\"]),hidden_1_layer[\"bias\"])),output_layer[\"weights\"]),output_layer[\"bias\"]))\n",
    "  test_prediction = tf.nn.softmax(tf.add(tf.matmul(tf.nn.relu(tf.add(tf.matmul(tf_test_dataset,hidden_1_layer[\"weights\"]),hidden_1_layer[\"bias\"])),output_layer[\"weights\"]),output_layer[\"bias\"]))\n",
    "  "
   ]
  },
  {
   "cell_type": "markdown",
   "metadata": {
    "colab_type": "text",
    "id": "ww3SCBUdlkRc"
   },
   "source": [
    "---\n",
    "Problem 3\n",
    "---------\n",
    "Introduce Dropout on the hidden layer of the neural network. Remember: Dropout should only be introduced during training, not evaluation, otherwise your evaluation results would be stochastic as well. TensorFlow provides `nn.dropout()` for that, but you have to make sure it's only inserted during training.\n",
    "\n",
    "What happens to our extreme overfitting case?\n",
    "\n",
    "---"
   ]
  },
  {
   "cell_type": "code",
   "execution_count": 37,
   "metadata": {
    "collapsed": true
   },
   "outputs": [],
   "source": [
    "batch_size = 128\n",
    "n_nodes_hl1=2048\n",
    "beta=0.0008\n",
    "graph = tf.Graph()\n",
    "with graph.as_default():\n",
    "  # Input data. For the training data, we use a placeholder that will be fed\n",
    "  # at run time with a training minibatch.\n",
    "  tf_train_dataset = tf.placeholder(tf.float32,\n",
    "                                    shape=(batch_size, image_size * image_size),name='train')\n",
    "  tf_train_labels = tf.placeholder(tf.float32, shape=(batch_size, num_labels),name='train_label')\n",
    "  tf_valid_dataset = tf.constant(valid_dataset,name='valid')\n",
    "  tf_test_dataset = tf.constant(test_dataset,name='test')\n",
    "  hidden_1_layer={'weights':tf.Variable(\n",
    "  tf.truncated_normal([image_size * image_size, n_nodes_hl1]),name='hidden_weights'),'bias':tf.Variable(tf.zeros([n_nodes_hl1]),name='hidden_bias')}                                                                                                             \n",
    "  output_layer={'weights':tf.Variable(tf.truncated_normal([n_nodes_hl1,num_labels]),name='output_weights'),'bias':tf.Variable(tf.truncated_normal([num_labels]),name='output_bias')}                                                                                                           \n",
    "  l1=tf.add(tf.matmul(tf_train_dataset,hidden_1_layer[\"weights\"]),hidden_1_layer[\"bias\"])\n",
    "  l1=tf.nn.relu(l1)\n",
    "  hidden_1_layer[\"weights\"]=tf.nn.dropout(hidden_1_layer[\"weights\"],keep_prob=0.4) \n",
    "  output=tf.add(tf.matmul(l1,output_layer[\"weights\"]),output_layer[\"bias\"])  \n",
    "  loss = tf.reduce_mean(tf.nn.softmax_cross_entropy_with_logits(output, tf_train_labels))+beta * (tf.nn.l2_loss(hidden_1_layer[\"weights\"])+tf.nn.l2_loss(output_layer[\"weights\"]))\n",
    "  # Optimizer.\n",
    "  optimizer = tf.train.GradientDescentOptimizer(0.5).minimize(loss)\n",
    "  # Predictions for the training, validation, and test data.\n",
    "  train_prediction = tf.nn.softmax(output)\n",
    "  valid_prediction = tf.nn.softmax(tf.add(tf.matmul(tf.nn.relu(tf.add(tf.matmul(tf_valid_dataset,hidden_1_layer[\"weights\"]),hidden_1_layer[\"bias\"])),output_layer[\"weights\"]),output_layer[\"bias\"]))\n",
    "  test_prediction = tf.nn.softmax(tf.add(tf.matmul(tf.nn.relu(tf.add(tf.matmul(tf_test_dataset,hidden_1_layer[\"weights\"]),hidden_1_layer[\"bias\"])),output_layer[\"weights\"]),output_layer[\"bias\"]))\n",
    "  "
   ]
  },
  {
   "cell_type": "code",
   "execution_count": 38,
   "metadata": {
    "collapsed": false
   },
   "outputs": [
    {
     "name": "stdout",
     "output_type": "stream",
     "text": [
      "Initialized\n",
      "Minibatch loss at step 0: 1700.951172\n",
      "Minibatch accuracy: 18.0%\n",
      "Validation accuracy: 22.1%\n",
      "Minibatch loss at step 500: 467.589874\n",
      "Minibatch accuracy: 85.9%\n",
      "Validation accuracy: 52.9%\n",
      "Minibatch loss at step 1000: 170.288803\n",
      "Minibatch accuracy: 82.0%\n",
      "Validation accuracy: 53.8%\n",
      "Minibatch loss at step 1500: 61.997978\n",
      "Minibatch accuracy: 90.6%\n",
      "Validation accuracy: 50.3%\n",
      "Minibatch loss at step 2000: 23.008766\n",
      "Minibatch accuracy: 92.2%\n",
      "Validation accuracy: 62.4%\n",
      "Minibatch loss at step 2500: 8.906447\n",
      "Minibatch accuracy: 88.3%\n",
      "Validation accuracy: 71.6%\n",
      "Minibatch loss at step 3000: 3.749403\n",
      "Minibatch accuracy: 85.2%\n",
      "Validation accuracy: 83.6%\n",
      "Test accuracy: 89.4%\n"
     ]
    }
   ],
   "source": [
    "num_steps = 3001\n",
    "\n",
    "with tf.Session(graph=graph) as session:\n",
    "  tf.global_variables_initializer().run()\n",
    "  print(\"Initialized\")\n",
    "  for step in range(num_steps):\n",
    "    # Pick an offset within the training data, which has been randomized.\n",
    "    # Note: we could use better randomization across epochs.\n",
    "    offset = (step * batch_size) % (train_labels.shape[0] - batch_size)\n",
    "    # Generate a minibatch.\n",
    "    batch_data = train_dataset[offset:(offset + batch_size), :]\n",
    "    batch_labels = train_labels[offset:(offset + batch_size), :]\n",
    "    # Prepare a dictionary telling the session where to feed the minibatch.\n",
    "    # The key of the dictionary is the placeholder node of the graph to be fed,\n",
    "    # and the value is the numpy array to feed to it.\n",
    "    feed_dict = {tf_train_dataset : batch_data, tf_train_labels : batch_labels}\n",
    "    _, l, predictions = session.run(\n",
    "      [optimizer, loss, train_prediction], feed_dict=feed_dict)\n",
    "    if (step % 500 == 0):\n",
    "      print(\"Minibatch loss at step %d: %f\" % (step, l))\n",
    "      print(\"Minibatch accuracy: %.1f%%\" % accuracy(predictions, batch_labels))\n",
    "      print(\"Validation accuracy: %.1f%%\" % accuracy(valid_prediction.eval(), valid_labels))\n",
    "        \n",
    "  print(\"Test accuracy: %.1f%%\" % accuracy(test_prediction.eval(), test_labels))"
   ]
  },
  {
   "cell_type": "code",
   "execution_count": null,
   "metadata": {
    "collapsed": true
   },
   "outputs": [],
   "source": []
  },
  {
   "cell_type": "code",
   "execution_count": null,
   "metadata": {
    "collapsed": true
   },
   "outputs": [],
   "source": []
  },
  {
   "cell_type": "markdown",
   "metadata": {
    "colab_type": "text",
    "id": "-b1hTz3VWZjw"
   },
   "source": [
    "---\n",
    "Problem 4\n",
    "---------\n",
    "\n",
    "Try to get the best performance you can using a multi-layer model! The best reported test accuracy using a deep network is [97.1%](http://yaroslavvb.blogspot.com/2011/09/notmnist-dataset.html?showComment=1391023266211#c8758720086795711595).\n",
    "\n",
    "One avenue you can explore is to add multiple layers.\n",
    "\n",
    "Another one is to use learning rate decay:\n",
    "\n",
    "    global_step = tf.Variable(0)  # count the number of steps taken.\n",
    "    learning_rate = tf.train.exponential_decay(0.5, global_step, ...)\n",
    "    optimizer = tf.train.GradientDescentOptimizer(learning_rate).minimize(loss, global_step=global_step)\n",
    " \n",
    " ---\n"
   ]
  },
  {
   "cell_type": "code",
   "execution_count": null,
   "metadata": {
    "collapsed": true
   },
   "outputs": [],
   "source": []
  },
  {
   "cell_type": "code",
   "execution_count": null,
   "metadata": {
    "collapsed": true
   },
   "outputs": [],
   "source": []
  },
  {
   "cell_type": "code",
   "execution_count": null,
   "metadata": {
    "collapsed": true
   },
   "outputs": [],
   "source": []
  },
  {
   "cell_type": "code",
   "execution_count": 82,
   "metadata": {
    "collapsed": false
   },
   "outputs": [],
   "source": [
    "del output_layer"
   ]
  },
  {
   "cell_type": "code",
   "execution_count": 92,
   "metadata": {
    "collapsed": false
   },
   "outputs": [],
   "source": [
    "batch_size = 128 # 128\n",
    "n_nodes_hl1=2024\n",
    "n_nodes_hl2=1024\n",
    "beta=0.0008\n",
    "graph = tf.Graph()\n",
    "with graph.as_default():\n",
    "  # Input data. For the training data, we use a placeholder that will be fed\n",
    "  # at run time with a training minibatch.\n",
    "  tf_train_dataset = tf.placeholder(tf.float32,\n",
    "                                    shape=(batch_size, image_size * image_size),name='train')\n",
    "  tf_train_labels = tf.placeholder(tf.float32, shape=(batch_size, num_labels),name='train_label')\n",
    "  tf_valid_dataset = tf.constant(valid_dataset,name='valid')\n",
    "  tf_test_dataset = tf.constant(test_dataset,name='test')\n",
    "  #tf.get_variable(\"W\", shape=[n_nodes_hl1, n_nodes_hl2],initializer=tf.contrib.layers.xavier_initializer())\n",
    "           \n",
    "  hidden_1_layer={'weights':tf.get_variable(shape=[image_size * image_size, n_nodes_hl1],initializer=tf.contrib.layers.xavier_initializer(),name='hidden_weights'),'bias':tf.Variable(tf.truncated_normal([n_nodes_hl1]),name='hidden_bias')}\n",
    "  hidden_2_layer={'weights':tf.get_variable( shape=[n_nodes_hl1, n_nodes_hl2],initializer=tf.contrib.layers.xavier_initializer(),name='hidden_weights_2'),'bias':tf.Variable(tf.truncated_normal([n_nodes_hl2]),name='hidden_bias_2')}\n",
    "  output_layer={'weights':tf.get_variable( shape=[n_nodes_hl2,num_labels],initializer=tf.contrib.layers.xavier_initializer(),name='output_weights'),'bias':tf.Variable(tf.truncated_normal([num_labels]),name='output_bias')}                                                                                                           \n",
    "  l1=tf.add(tf.matmul(tf_train_dataset,hidden_1_layer[\"weights\"]),hidden_1_layer[\"bias\"])\n",
    "  l1=tf.nn.relu(l1)\n",
    "  hidden_1_layer[\"weights\"]=tf.nn.dropout(hidden_1_layer[\"weights\"],keep_prob=0.5) \n",
    "  l2=tf.add(tf.matmul(l1,hidden_2_layer[\"weights\"]),hidden_2_layer[\"bias\"])\n",
    "  l2=tf.nn.relu(l2)\n",
    "  hidden_2_layer[\"weights\"]=tf.nn.dropout(hidden_2_layer[\"weights\"],keep_prob=0.5)   \n",
    "  output=tf.add(tf.matmul(l2,output_layer[\"weights\"]),output_layer[\"bias\"])  \n",
    "  loss = tf.reduce_mean(tf.nn.softmax_cross_entropy_with_logits(output, tf_train_labels))+beta * (tf.nn.l2_loss(hidden_1_layer[\"weights\"])+tf.nn.l2_loss(output_layer[\"weights\"])+tf.nn.l2_loss(hidden_2_layer[\"weights\"]))\n",
    "  # Optimizer.\n",
    "  global_step = tf.Variable(0)  # count the number of steps taken.\n",
    "  learning_rate = tf.train.exponential_decay(0.4, global_step,decay_steps=100,decay_rate=.96, staircase= False)\n",
    "  optimizer = tf.train.GradientDescentOptimizer(learning_rate).minimize(loss, global_step=global_step)\n",
    "  #optimizer = tf.train.GradientDescentOptimizer(0.5).minimize(loss)\n",
    "  # Predictions for the training, validation, and test data.\n",
    "  train_prediction = tf.nn.softmax(output)\n",
    "  # output=tf.add(tf.matmul(tf.nn.relu(tf.add(tf.matmul(tf.nn.relu(tf.add(tf.matmul(tf_train_dataset,hidden_1_layer[\"weights\"]),hidden_1_layer[\"bias\"])),hidden_2_layer[\"weights\"]),hidden_2_layer[\"bias\"])),output_layer[\"weights\"]),output_layer[\"bias\"])    \n",
    "  valid_prediction = tf.nn.softmax(tf.add(tf.matmul(tf.nn.relu(tf.add(tf.matmul(tf.nn.relu(tf.add(tf.matmul(tf_valid_dataset,hidden_1_layer[\"weights\"]),hidden_1_layer[\"bias\"])),hidden_2_layer[\"weights\"]),hidden_2_layer[\"bias\"])),output_layer[\"weights\"]),output_layer[\"bias\"]))\n",
    "  test_prediction = tf.nn.softmax(tf.add(tf.matmul(tf.nn.relu(tf.add(tf.matmul(tf.nn.relu(tf.add(tf.matmul(tf_test_dataset,hidden_1_layer[\"weights\"]),hidden_1_layer[\"bias\"])),hidden_2_layer[\"weights\"]),hidden_2_layer[\"bias\"])),output_layer[\"weights\"]),output_layer[\"bias\"]))"
   ]
  },
  {
   "cell_type": "code",
   "execution_count": 93,
   "metadata": {
    "collapsed": false
   },
   "outputs": [
    {
     "name": "stdout",
     "output_type": "stream",
     "text": [
      "Initialized\n",
      "Minibatch loss at step 0: 5.377193\n",
      "Minibatch accuracy: 7.0%\n",
      "Validation accuracy: 10.0%\n",
      "Minibatch loss at step 500: 9.487813\n",
      "Minibatch accuracy: 83.6%\n",
      "Validation accuracy: 74.2%\n",
      "Minibatch loss at step 1000: 6.863490\n",
      "Minibatch accuracy: 78.9%\n",
      "Validation accuracy: 78.6%\n",
      "Minibatch loss at step 1500: 5.063195\n",
      "Minibatch accuracy: 88.3%\n",
      "Validation accuracy: 82.4%\n",
      "Minibatch loss at step 2000: 4.080177\n",
      "Minibatch accuracy: 92.2%\n",
      "Validation accuracy: 84.5%\n",
      "Minibatch loss at step 2500: 3.504969\n",
      "Minibatch accuracy: 89.8%\n",
      "Validation accuracy: 84.6%\n",
      "Minibatch loss at step 3000: 3.165132\n",
      "Minibatch accuracy: 84.4%\n",
      "Validation accuracy: 83.6%\n",
      "Minibatch loss at step 3500: 2.894245\n",
      "Minibatch accuracy: 85.9%\n",
      "Validation accuracy: 85.1%\n",
      "Minibatch loss at step 4000: 2.540234\n",
      "Minibatch accuracy: 90.6%\n",
      "Validation accuracy: 84.8%\n",
      "Minibatch loss at step 4500: 2.438391\n",
      "Minibatch accuracy: 88.3%\n",
      "Validation accuracy: 83.9%\n",
      "Minibatch loss at step 5000: 2.347358\n",
      "Minibatch accuracy: 89.8%\n",
      "Validation accuracy: 85.3%\n",
      "Minibatch loss at step 5500: 2.293495\n",
      "Minibatch accuracy: 87.5%\n",
      "Validation accuracy: 84.5%\n",
      "Minibatch loss at step 6000: 2.277759\n",
      "Minibatch accuracy: 84.4%\n",
      "Validation accuracy: 84.1%\n",
      "Minibatch loss at step 6500: 2.057061\n",
      "Minibatch accuracy: 89.1%\n",
      "Validation accuracy: 85.1%\n",
      "Minibatch loss at step 7000: 2.138758\n",
      "Minibatch accuracy: 87.5%\n",
      "Validation accuracy: 83.5%\n",
      "Minibatch loss at step 7500: 2.077214\n",
      "Minibatch accuracy: 85.2%\n",
      "Validation accuracy: 85.5%\n",
      "Minibatch loss at step 8000: 2.199243\n",
      "Minibatch accuracy: 82.0%\n",
      "Validation accuracy: 85.4%\n",
      "Minibatch loss at step 8500: 1.948875\n",
      "Minibatch accuracy: 89.8%\n",
      "Validation accuracy: 85.3%\n",
      "Minibatch loss at step 9000: 2.007853\n",
      "Minibatch accuracy: 89.1%\n",
      "Validation accuracy: 84.6%\n",
      "Minibatch loss at step 9500: 1.975413\n",
      "Minibatch accuracy: 89.1%\n",
      "Validation accuracy: 84.9%\n",
      "Test accuracy: 91.7%\n"
     ]
    }
   ],
   "source": [
    "num_steps = 10000\n",
    "\n",
    "with tf.Session(graph=graph) as session:\n",
    "  tf.global_variables_initializer().run()\n",
    "  print(\"Initialized\")\n",
    "  for step in range(num_steps):\n",
    "    # Pick an offset within the training data, which has been randomized.\n",
    "    # Note: we could use better randomization across epochs.\n",
    "    offset = (step * batch_size) % (train_labels.shape[0] - batch_size)\n",
    "    # Generate a minibatch.\n",
    "    batch_data = train_dataset[offset:(offset + batch_size), :]\n",
    "    batch_labels = train_labels[offset:(offset + batch_size), :]\n",
    "    # Prepare a dictionary telling the session where to feed the minibatch.\n",
    "    # The key of the dictionary is the placeholder node of the graph to be fed,\n",
    "    # and the value is the numpy array to feed to it.\n",
    "    feed_dict = {tf_train_dataset : batch_data, tf_train_labels : batch_labels}\n",
    "    _, l, predictions = session.run(\n",
    "      [optimizer, loss, train_prediction], feed_dict=feed_dict)\n",
    "    if (step % 500 == 0):\n",
    "      print(\"Minibatch loss at step %d: %f\" % (step, l))\n",
    "      print(\"Minibatch accuracy: %.1f%%\" % accuracy(predictions, batch_labels))\n",
    "      print(\"Validation accuracy: %.1f%%\" % accuracy(valid_prediction.eval(), valid_labels))\n",
    "        \n",
    "  print(\"Test accuracy: %.1f%%\" % accuracy(test_prediction.eval(), test_labels))"
   ]
  },
  {
   "cell_type": "code",
   "execution_count": null,
   "metadata": {
    "collapsed": true
   },
   "outputs": [],
   "source": []
  },
  {
   "cell_type": "code",
   "execution_count": 120,
   "metadata": {
    "collapsed": false
   },
   "outputs": [],
   "source": [
    "batch_size = 128 # 128\n",
    "n_nodes_hl1=2048\n",
    "n_nodes_hl2=2048\n",
    "beta=0.0005\n",
    "graph = tf.Graph()\n",
    "with graph.as_default():\n",
    "  # Input data. For the training data, we use a placeholder that will be fed\n",
    "  # at run time with a training minibatch.\n",
    "  tf_train_dataset = tf.placeholder(tf.float32,\n",
    "                                    shape=(batch_size, image_size * image_size),name='train')\n",
    "  tf_train_labels = tf.placeholder(tf.float32, shape=(batch_size, num_labels),name='train_label')\n",
    "  tf_valid_dataset = tf.constant(valid_dataset,name='valid')\n",
    "  tf_test_dataset = tf.constant(test_dataset,name='test')\n",
    "  #tf.get_variable(\"W\", shape=[n_nodes_hl1, n_nodes_hl2],initializer=tf.contrib.layers.xavier_initializer())\n",
    "           \n",
    "  hidden_1_layer={'weights':tf.get_variable(shape=[image_size * image_size, n_nodes_hl1],initializer=tf.contrib.layers.xavier_initializer(),name='hidden_weights'),'bias':tf.Variable(tf.truncated_normal([n_nodes_hl1]),name='hidden_bias')}\n",
    "  hidden_2_layer={'weights':tf.get_variable( shape=[n_nodes_hl1, n_nodes_hl2],initializer=tf.contrib.layers.xavier_initializer(),name='hidden_weights_2'),'bias':tf.Variable(tf.truncated_normal([n_nodes_hl2]),name='hidden_bias_2')}\n",
    "  output_layer={'weights':tf.get_variable( shape=[n_nodes_hl2,num_labels],initializer=tf.contrib.layers.xavier_initializer(),name='output_weights'),'bias':tf.Variable(tf.truncated_normal([num_labels]),name='output_bias')}                                                                                                           \n",
    "  l1=tf.add(tf.matmul(tf_train_dataset,hidden_1_layer[\"weights\"]),hidden_1_layer[\"bias\"])\n",
    "  l1=tf.nn.relu(l1)\n",
    "  hidden_1_layer[\"weights\"]=tf.nn.dropout(hidden_1_layer[\"weights\"],keep_prob=0.7) \n",
    "  l2=tf.add(tf.matmul(l1,hidden_2_layer[\"weights\"]),hidden_2_layer[\"bias\"])\n",
    "  l2=tf.nn.relu(l2)\n",
    "  hidden_2_layer[\"weights\"]=tf.nn.dropout(hidden_2_layer[\"weights\"],keep_prob=0.3)   \n",
    "  output=tf.add(tf.matmul(l2,output_layer[\"weights\"]),output_layer[\"bias\"])  \n",
    "  #loss = tf.reduce_mean(tf.nn.softmax_cross_entropy_with_logits(output, tf_train_labels))\n",
    "  loss = tf.reduce_mean(tf.nn.softmax_cross_entropy_with_logits(output, tf_train_labels))+beta * (tf.nn.l2_loss(hidden_1_layer[\"weights\"])+tf.nn.l2_loss(output_layer[\"weights\"])+tf.nn.l2_loss(hidden_2_layer[\"weights\"]))\n",
    "  # Optimizer.\n",
    "  global_step = tf.Variable(0)  # count the number of steps taken.\n",
    "  learning_rate = tf.train.exponential_decay(0.4, global_step,decay_steps=100,decay_rate=.96, staircase= False)\n",
    "  optimizer = tf.train.GradientDescentOptimizer(learning_rate).minimize(loss, global_step=global_step)\n",
    "  #optimizer = tf.train.GradientDescentOptimizer(0.5).minimize(loss)\n",
    "  # Predictions for the training, validation, and test data.\n",
    "  train_prediction = tf.nn.softmax(output)\n",
    "  # output=tf.add(tf.matmul(tf.nn.relu(tf.add(tf.matmul(tf.nn.relu(tf.add(tf.matmul(tf_train_dataset,hidden_1_layer[\"weights\"]),hidden_1_layer[\"bias\"])),hidden_2_layer[\"weights\"]),hidden_2_layer[\"bias\"])),output_layer[\"weights\"]),output_layer[\"bias\"])    \n",
    "  valid_prediction = tf.nn.softmax(tf.add(tf.matmul(tf.nn.relu(tf.add(tf.matmul(tf.nn.relu(tf.add(tf.matmul(tf_valid_dataset,hidden_1_layer[\"weights\"]),hidden_1_layer[\"bias\"])),hidden_2_layer[\"weights\"]),hidden_2_layer[\"bias\"])),output_layer[\"weights\"]),output_layer[\"bias\"]))\n",
    "  test_prediction = tf.nn.softmax(tf.add(tf.matmul(tf.nn.relu(tf.add(tf.matmul(tf.nn.relu(tf.add(tf.matmul(tf_test_dataset,hidden_1_layer[\"weights\"]),hidden_1_layer[\"bias\"])),hidden_2_layer[\"weights\"]),hidden_2_layer[\"bias\"])),output_layer[\"weights\"]),output_layer[\"bias\"]))"
   ]
  },
  {
   "cell_type": "code",
   "execution_count": 121,
   "metadata": {
    "collapsed": false
   },
   "outputs": [
    {
     "name": "stdout",
     "output_type": "stream",
     "text": [
      "Initialized\n",
      "Minibatch loss at step 0: 5.064282\n",
      "Minibatch accuracy: 11.7%\n",
      "Validation accuracy: 10.0%\n",
      "Minibatch loss at step 500: 2.205374\n",
      "Minibatch accuracy: 88.3%\n",
      "Validation accuracy: 82.1%\n",
      "Minibatch loss at step 1000: 1.790165\n",
      "Minibatch accuracy: 84.4%\n",
      "Validation accuracy: 82.4%\n",
      "Minibatch loss at step 1500: 1.290869\n",
      "Minibatch accuracy: 90.6%\n",
      "Validation accuracy: 85.2%\n",
      "Minibatch loss at step 2000: 1.103902\n",
      "Minibatch accuracy: 93.8%\n",
      "Validation accuracy: 84.4%\n",
      "Minibatch loss at step 2500: 1.042681\n",
      "Minibatch accuracy: 89.1%\n",
      "Validation accuracy: 85.0%\n",
      "Minibatch loss at step 3000: 1.062919\n",
      "Minibatch accuracy: 84.4%\n",
      "Validation accuracy: 85.4%\n",
      "Minibatch loss at step 3500: 1.006845\n",
      "Minibatch accuracy: 86.7%\n",
      "Validation accuracy: 85.6%\n",
      "Minibatch loss at step 4000: 0.840431\n",
      "Minibatch accuracy: 90.6%\n",
      "Validation accuracy: 85.8%\n",
      "Minibatch loss at step 4500: 0.815019\n",
      "Minibatch accuracy: 89.8%\n",
      "Validation accuracy: 84.4%\n",
      "Minibatch loss at step 5000: 0.863426\n",
      "Minibatch accuracy: 89.8%\n",
      "Validation accuracy: 86.6%\n",
      "Minibatch loss at step 5500: 0.847158\n",
      "Minibatch accuracy: 87.5%\n",
      "Validation accuracy: 85.8%\n",
      "Minibatch loss at step 6000: 0.900297\n",
      "Minibatch accuracy: 85.2%\n",
      "Validation accuracy: 87.0%\n",
      "Minibatch loss at step 6500: 0.716538\n",
      "Minibatch accuracy: 91.4%\n",
      "Validation accuracy: 85.5%\n",
      "Minibatch loss at step 7000: 0.842296\n",
      "Minibatch accuracy: 87.5%\n",
      "Validation accuracy: 86.4%\n",
      "Minibatch loss at step 7500: 0.821936\n",
      "Minibatch accuracy: 85.2%\n",
      "Validation accuracy: 86.4%\n",
      "Minibatch loss at step 8000: 0.910321\n",
      "Minibatch accuracy: 83.6%\n",
      "Validation accuracy: 85.2%\n",
      "Minibatch loss at step 8500: 0.715468\n",
      "Minibatch accuracy: 90.6%\n",
      "Validation accuracy: 85.3%\n",
      "Minibatch loss at step 9000: 0.790684\n",
      "Minibatch accuracy: 89.1%\n",
      "Validation accuracy: 85.5%\n",
      "Minibatch loss at step 9500: 0.766545\n",
      "Minibatch accuracy: 89.8%\n",
      "Validation accuracy: 86.7%\n",
      "Test accuracy: 92.6%\n"
     ]
    }
   ],
   "source": [
    "num_steps = 10000\n",
    "\n",
    "with tf.Session(graph=graph) as session:\n",
    "  tf.global_variables_initializer().run()\n",
    "  print(\"Initialized\")\n",
    "  for step in range(num_steps):\n",
    "    # Pick an offset within the training data, which has been randomized.\n",
    "    # Note: we could use better randomization across epochs.\n",
    "    offset = (step * batch_size) % (train_labels.shape[0] - batch_size)\n",
    "    # Generate a minibatch.\n",
    "    batch_data = train_dataset[offset:(offset + batch_size), :]\n",
    "    batch_labels = train_labels[offset:(offset + batch_size), :]\n",
    "    # Prepare a dictionary telling the session where to feed the minibatch.\n",
    "    # The key of the dictionary is the placeholder node of the graph to be fed,\n",
    "    # and the value is the numpy array to feed to it.\n",
    "    feed_dict = {tf_train_dataset : batch_data, tf_train_labels : batch_labels}\n",
    "    _, l, predictions = session.run(\n",
    "      [optimizer, loss, train_prediction], feed_dict=feed_dict)\n",
    "    if (step % 500 == 0):\n",
    "      print(\"Minibatch loss at step %d: %f\" % (step, l))\n",
    "      print(\"Minibatch accuracy: %.1f%%\" % accuracy(predictions, batch_labels))\n",
    "      print(\"Validation accuracy: %.1f%%\" % accuracy(valid_prediction.eval(), valid_labels))\n",
    "        \n",
    "  print(\"Test accuracy: %.1f%%\" % accuracy(test_prediction.eval(), test_labels))"
   ]
  },
  {
   "cell_type": "code",
   "execution_count": null,
   "metadata": {
    "collapsed": true
   },
   "outputs": [],
   "source": []
  },
  {
   "cell_type": "markdown",
   "metadata": {},
   "source": [
    "## different activation function "
   ]
  },
  {
   "cell_type": "code",
   "execution_count": 104,
   "metadata": {
    "collapsed": false
   },
   "outputs": [],
   "source": [
    "batch_size = 128 # 128\n",
    "n_nodes_hl1=2024\n",
    "n_nodes_hl2=1024\n",
    "beta=0.0008\n",
    "graph = tf.Graph()\n",
    "with graph.as_default():\n",
    "  # Input data. For the training data, we use a placeholder that will be fed\n",
    "  # at run time with a training minibatch.\n",
    "  tf_train_dataset = tf.placeholder(tf.float32,\n",
    "                                    shape=(batch_size, image_size * image_size),name='train')\n",
    "  tf_train_labels = tf.placeholder(tf.float32, shape=(batch_size, num_labels),name='train_label')\n",
    "  tf_valid_dataset = tf.constant(valid_dataset,name='valid')\n",
    "  tf_test_dataset = tf.constant(test_dataset,name='test')\n",
    "  #tf.get_variable(\"W\", shape=[n_nodes_hl1, n_nodes_hl2],initializer=tf.contrib.layers.xavier_initializer())\n",
    "           \n",
    "  hidden_1_layer={'weights':tf.get_variable(shape=[image_size * image_size, n_nodes_hl1],initializer=tf.contrib.layers.xavier_initializer(),name='hidden_weights'),'bias':tf.Variable(tf.truncated_normal([n_nodes_hl1]),name='hidden_bias')}\n",
    "  hidden_2_layer={'weights':tf.get_variable( shape=[n_nodes_hl1, n_nodes_hl2],initializer=tf.contrib.layers.xavier_initializer(),name='hidden_weights_2'),'bias':tf.Variable(tf.truncated_normal([n_nodes_hl2]),name='hidden_bias_2')}\n",
    "  output_layer={'weights':tf.get_variable( shape=[n_nodes_hl2,num_labels],initializer=tf.contrib.layers.xavier_initializer(),name='output_weights'),'bias':tf.Variable(tf.truncated_normal([num_labels]),name='output_bias')}                                                                                                           \n",
    "  l1=tf.add(tf.matmul(tf_train_dataset,hidden_1_layer[\"weights\"]),hidden_1_layer[\"bias\"])\n",
    "  l1=tf.nn.tanh(l1)\n",
    "  hidden_1_layer[\"weights\"]=tf.nn.dropout(hidden_1_layer[\"weights\"],keep_prob=0.6) \n",
    "  l2=tf.add(tf.matmul(l1,hidden_2_layer[\"weights\"]),hidden_2_layer[\"bias\"])\n",
    "  l2=tf.nn.relu(l2)\n",
    "  hidden_2_layer[\"weights\"]=tf.nn.dropout(hidden_2_layer[\"weights\"],keep_prob=0.3)   \n",
    "  output=tf.add(tf.matmul(l2,output_layer[\"weights\"]),output_layer[\"bias\"])  \n",
    "  loss = tf.reduce_mean(tf.nn.softmax_cross_entropy_with_logits(output, tf_train_labels))+beta * (tf.nn.l2_loss(hidden_1_layer[\"weights\"])+tf.nn.l2_loss(output_layer[\"weights\"])+tf.nn.l2_loss(hidden_2_layer[\"weights\"]))\n",
    "  # Optimizer.\n",
    "  global_step = tf.Variable(0)  # count the number of steps taken.\n",
    "  learning_rate = tf.train.exponential_decay(0.4, global_step,decay_steps=100,decay_rate=.96, staircase= False)\n",
    "  optimizer = tf.train.GradientDescentOptimizer(learning_rate).minimize(loss, global_step=global_step)\n",
    "  #optimizer = tf.train.GradientDescentOptimizer(0.5).minimize(loss)\n",
    "  # Predictions for the training, validation, and test data.\n",
    "  train_prediction = tf.nn.softmax(output)\n",
    "  # output=tf.add(tf.matmul(tf.nn.relu(tf.add(tf.matmul(tf.nn.relu(tf.add(tf.matmul(tf_train_dataset,hidden_1_layer[\"weights\"]),hidden_1_layer[\"bias\"])),hidden_2_layer[\"weights\"]),hidden_2_layer[\"bias\"])),output_layer[\"weights\"]),output_layer[\"bias\"])    \n",
    "  valid_prediction = tf.nn.softmax(tf.add(tf.matmul(tf.nn.relu(tf.add(tf.matmul(tf.nn.relu(tf.add(tf.matmul(tf_valid_dataset,hidden_1_layer[\"weights\"]),hidden_1_layer[\"bias\"])),hidden_2_layer[\"weights\"]),hidden_2_layer[\"bias\"])),output_layer[\"weights\"]),output_layer[\"bias\"]))\n",
    "  test_prediction = tf.nn.softmax(tf.add(tf.matmul(tf.nn.relu(tf.add(tf.matmul(tf.nn.relu(tf.add(tf.matmul(tf_test_dataset,hidden_1_layer[\"weights\"]),hidden_1_layer[\"bias\"])),hidden_2_layer[\"weights\"]),hidden_2_layer[\"bias\"])),output_layer[\"weights\"]),output_layer[\"bias\"]))"
   ]
  },
  {
   "cell_type": "code",
   "execution_count": 105,
   "metadata": {
    "collapsed": false
   },
   "outputs": [
    {
     "name": "stdout",
     "output_type": "stream",
     "text": [
      "Initialized\n",
      "Minibatch loss at step 0: 5.323531\n",
      "Minibatch accuracy: 7.0%\n",
      "Validation accuracy: 10.0%\n",
      "Minibatch loss at step 500: 3.451479\n",
      "Minibatch accuracy: 75.8%\n",
      "Validation accuracy: 55.1%\n",
      "Minibatch loss at step 1000: 2.185287\n",
      "Minibatch accuracy: 79.7%\n",
      "Validation accuracy: 67.5%\n",
      "Minibatch loss at step 1500: 1.510751\n",
      "Minibatch accuracy: 85.2%\n",
      "Validation accuracy: 75.2%\n",
      "Minibatch loss at step 2000: 1.214741\n",
      "Minibatch accuracy: 88.3%\n",
      "Validation accuracy: 69.7%\n",
      "Minibatch loss at step 2500: 1.109519\n",
      "Minibatch accuracy: 86.7%\n",
      "Validation accuracy: 74.7%\n",
      "Minibatch loss at step 3000: 1.129091\n",
      "Minibatch accuracy: 82.0%\n",
      "Validation accuracy: 77.1%\n",
      "Test accuracy: 83.3%\n"
     ]
    }
   ],
   "source": [
    "num_steps = 3001\n",
    "\n",
    "with tf.Session(graph=graph) as session:\n",
    "  tf.global_variables_initializer().run()\n",
    "  print(\"Initialized\")\n",
    "  for step in range(num_steps):\n",
    "    # Pick an offset within the training data, which has been randomized.\n",
    "    # Note: we could use better randomization across epochs.\n",
    "    offset = (step * batch_size) % (train_labels.shape[0] - batch_size)\n",
    "    # Generate a minibatch.\n",
    "    batch_data = train_dataset[offset:(offset + batch_size), :]\n",
    "    batch_labels = train_labels[offset:(offset + batch_size), :]\n",
    "    # Prepare a dictionary telling the session where to feed the minibatch.\n",
    "    # The key of the dictionary is the placeholder node of the graph to be fed,\n",
    "    # and the value is the numpy array to feed to it.\n",
    "    feed_dict = {tf_train_dataset : batch_data, tf_train_labels : batch_labels}\n",
    "    _, l, predictions = session.run(\n",
    "      [optimizer, loss, train_prediction], feed_dict=feed_dict)\n",
    "    if (step % 500 == 0):\n",
    "      print(\"Minibatch loss at step %d: %f\" % (step, l))\n",
    "      print(\"Minibatch accuracy: %.1f%%\" % accuracy(predictions, batch_labels))\n",
    "      print(\"Validation accuracy: %.1f%%\" % accuracy(valid_prediction.eval(), valid_labels))\n",
    "        \n",
    "  print(\"Test accuracy: %.1f%%\" % accuracy(test_prediction.eval(), test_labels))"
   ]
  },
  {
   "cell_type": "code",
   "execution_count": null,
   "metadata": {
    "collapsed": true
   },
   "outputs": [],
   "source": [
    "def xavier_init(n_inputs, n_outputs, uniform=True):\n",
    "  \"\"\"Set the parameter initialization using the method described.\n",
    "  This method is designed to keep the scale of the gradients roughly the same\n",
    "  in all layers.\n",
    "  Xavier Glorot and Yoshua Bengio (2010):\n",
    "           Understanding the difficulty of training deep feedforward neural\n",
    "           networks. International conference on artificial intelligence and\n",
    "           statistics.\n",
    "  Args:\n",
    "    n_inputs: The number of input nodes into each output.\n",
    "    n_outputs: The number of output nodes for each input.\n",
    "    uniform: If true use a uniform distribution, otherwise use a normal.\n",
    "  Returns:\n",
    "    An initializer.\n",
    "  \"\"\"\n",
    "  if uniform:\n",
    "    # 6 was used in the paper.\n",
    "    init_range = math.sqrt(6.0 / (n_inputs + n_outputs))\n",
    "    return tf.random_uniform_initializer(-init_range, init_range)\n",
    "  else:\n",
    "    # 3 gives us approximately the same limits as above since this repicks\n",
    "    # values greater than 2 standard deviations from the mean.\n",
    "    stddev = math.sqrt(3.0 / (n_inputs + n_outputs))\n",
    "    return tf.truncated_normal_initializer(stddev=stddev)"
   ]
  }
 ],
 "metadata": {
  "anaconda-cloud": {},
  "colab": {
   "default_view": {},
   "name": "3_regularization.ipynb",
   "provenance": [],
   "version": "0.3.2",
   "views": {}
  },
  "kernelspec": {
   "display_name": "Python [default]",
   "language": "python",
   "name": "python3"
  },
  "language_info": {
   "codemirror_mode": {
    "name": "ipython",
    "version": 3
   },
   "file_extension": ".py",
   "mimetype": "text/x-python",
   "name": "python",
   "nbconvert_exporter": "python",
   "pygments_lexer": "ipython3",
   "version": "3.5.2"
  }
 },
 "nbformat": 4,
 "nbformat_minor": 0
}
